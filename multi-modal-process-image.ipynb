{
 "cells": [
  {
   "cell_type": "code",
   "execution_count": 1,
   "metadata": {},
   "outputs": [],
   "source": [
    "import base64\n",
    "import os\n",
    "\n",
    "from dotenv import load_dotenv\n",
    "\n",
    "load_dotenv()\n",
    "\n",
    "from langchain_openai import ChatOpenAI"
   ]
  },
  {
   "cell_type": "code",
   "execution_count": 2,
   "metadata": {},
   "outputs": [],
   "source": [
    "llm = ChatOpenAI(model=\"gpt-4o\", temperature=0)"
   ]
  },
  {
   "cell_type": "code",
   "execution_count": 3,
   "metadata": {},
   "outputs": [],
   "source": [
    "image_path = \"./USMortgageRate.png\""
   ]
  },
  {
   "cell_type": "code",
   "execution_count": 4,
   "metadata": {},
   "outputs": [],
   "source": [
    "def encode_image(image_path):\n",
    "    with open(image_path, \"rb\") as image_file:\n",
    "        return base64.b64encode(image_file.read()).decode(\"utf-8\")\n",
    "\n",
    "\n",
    "base64_image = encode_image(image_path)"
   ]
  },
  {
   "cell_type": "code",
   "execution_count": 5,
   "metadata": {},
   "outputs": [
    {
     "name": "stdout",
     "output_type": "stream",
     "text": [
      "**Alternative Text:**\n",
      "\n",
      "The image is a line graph titled \"The U.S. Mortgage Rate Surge\" with a subtitle \"U.S. 30-Year Fixed-Rate Mortgage vs. Existing Home Sales.\" The graph shows data from 2014 to 2023. The y-axis on the left represents the mortgage rate percentage, ranging from 0% to 8%, while the y-axis on the right represents existing home sales in millions, ranging from 3M to 7M. \n",
      "\n",
      "Two lines are plotted:\n",
      "1. A red line representing the mortgage rate, which fluctuates between 3% and 5% from 2014 to 2020, then spikes sharply in 2022, reaching around 7%.\n",
      "2. A blue line representing existing home sales, which fluctuates between 4M and 6M from 2014 to 2020, spikes to nearly 7M in 2021, and then drops sharply to around 4M in 2023.\n",
      "\n",
      "A text box in the bottom right corner states: \"2023: With high mortgage rates, rising home prices, and a constrained housing inventory, U.S. housing affordability is at its lowest point since 1989.\" The source of the data is noted as FreddieMac and Trading Economics. The graph is created by Visual Capitalist, with collaborators listed at the bottom.\n"
     ]
    }
   ],
   "source": [
    "message = [\n",
    "    {\n",
    "        \"role\": \"system\",\n",
    "        \"content\": \"You're a helpful assistant that responds in Markdown\"\n",
    "    },\n",
    "    {\n",
    "        \"role\": \"user\",\n",
    "        \"content\": [\n",
    "            {\"type\": \"text\", \"text\": \"Describe the image as an alternative text\"},\n",
    "            {\"type\": \"image_url\", \"image_url\": {\n",
    "                \"url\": f\"data:image/png;base64,{base64_image}\"\n",
    "            }}\n",
    "        ]\n",
    "    }\n",
    "]\n",
    "\n",
    "response_message = llm.invoke(message)\n",
    "\n",
    "print(response_message.content)"
   ]
  }
 ],
 "metadata": {
  "kernelspec": {
   "display_name": "Python 3",
   "language": "python",
   "name": "python3"
  },
  "language_info": {
   "codemirror_mode": {
    "name": "ipython",
    "version": 3
   },
   "file_extension": ".py",
   "mimetype": "text/x-python",
   "name": "python",
   "nbconvert_exporter": "python",
   "pygments_lexer": "ipython3",
   "version": "3.11.9"
  }
 },
 "nbformat": 4,
 "nbformat_minor": 2
}
