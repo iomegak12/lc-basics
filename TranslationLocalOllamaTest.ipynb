{
  "nbformat": 4,
  "nbformat_minor": 0,
  "metadata": {
    "colab": {
      "private_outputs": true,
      "provenance": [],
      "machine_shape": "hm",
      "gpuType": "A100"
    },
    "kernelspec": {
      "name": "python3",
      "display_name": "Python 3"
    },
    "language_info": {
      "name": "python"
    },
    "accelerator": "GPU"
  },
  "cells": [
    {
      "cell_type": "code",
      "execution_count": null,
      "metadata": {
        "id": "6inv23hFeEgS"
      },
      "outputs": [],
      "source": [
        "%pip install transformers langdetect deep-translator torch torchvision torchaudio --extra-index-url https://download.pytorch.org/whl/cu117 langchain langchain-community gradio"
      ]
    },
    {
      "cell_type": "code",
      "source": [
        "from langchain_community.llms import Ollama\n",
        "from langchain.prompts import PromptTemplate\n",
        "\n",
        "llm = Ollama(model=\"mistral\")\n",
        "\n",
        "prompt = PromptTemplate(\n",
        "    input_variables=[\"query\"],\n",
        "    template=\"You are New Native Internal Bot. Help users with their important tasks, like a professor in a particular field. Query: {query}\",\n",
        ")\n",
        "\n",
        "chain = prompt | llm"
      ],
      "metadata": {
        "id": "MoDQSBKujSsA"
      },
      "execution_count": null,
      "outputs": []
    },
    {
      "cell_type": "code",
      "source": [
        "from langdetect import detect\n",
        "from deep_translator import GoogleTranslator\n",
        "\n",
        "class Translation:\n",
        "    def __init__(self, text, destination):\n",
        "        self.text = text\n",
        "        self.destination = destination\n",
        "        try:\n",
        "            self.original = detect(self.text)\n",
        "        except Exception as e:\n",
        "            self.original = \"auto\"\n",
        "    def translatef(self):\n",
        "        translator = GoogleTranslator(source=self.original, target=self.destination)\n",
        "        translation = translator.translate(self.text)\n",
        "        return translation"
      ],
      "metadata": {
        "id": "JXBIn4f8fOFH"
      },
      "execution_count": null,
      "outputs": []
    },
    {
      "cell_type": "code",
      "source": [
        "import gradio as gr"
      ],
      "metadata": {
        "id": "Tp7dbfoJfv4D"
      },
      "execution_count": null,
      "outputs": []
    },
    {
      "cell_type": "code",
      "source": [
        "def reply(message, history):\n",
        "    txt = Translation(message, \"en\")\n",
        "    if txt.original == \"en\":\n",
        "        response = chain.invoke({\n",
        "            \"query\": message})\n",
        "        print(response)\n",
        "        return response\n",
        "    else:\n",
        "        translation = txt.translatef()\n",
        "        print(translation)\n",
        "        response = chain.invoke({\"query\": translation})\n",
        "        print(response)\n",
        "        t = Translation(response, txt.original)\n",
        "        res = t.translatef()\n",
        "        print(res)\n",
        "        return res"
      ],
      "metadata": {
        "id": "MW2WqG8ggAPv"
      },
      "execution_count": null,
      "outputs": []
    },
    {
      "cell_type": "code",
      "source": [
        "demo = gr.ChatInterface(fn=reply, title=\"Multilingual Bot\")\n",
        "demo.launch(debug=True)"
      ],
      "metadata": {
        "id": "AcKbDrPAgDCe"
      },
      "execution_count": null,
      "outputs": []
    }
  ]
}